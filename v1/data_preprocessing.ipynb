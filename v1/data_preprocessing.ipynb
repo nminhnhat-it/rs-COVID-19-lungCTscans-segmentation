{
 "cells": [
  {
   "cell_type": "markdown",
   "metadata": {},
   "source": [
    "## Setting up"
   ]
  },
  {
   "cell_type": "code",
   "execution_count": null,
   "metadata": {},
   "outputs": [],
   "source": [
    "%pip install tensorflow==2.16.1 nibabel matplotlib numpy opencv-python image-classifiers==1.0.0b1 keras_applications keras_preprocessing keras_cv albumentations"
   ]
  },
  {
   "cell_type": "code",
   "execution_count": null,
   "metadata": {},
   "outputs": [],
   "source": [
    "import os\n",
    "from glob import glob \n",
    "import nibabel as nib\n",
    "import matplotlib.pyplot as plt\n",
    "import numpy as np\n",
    "import random\n",
    "import cv2\n",
    "from albumentations import HorizontalFlip, CoarseDropout, RandomBrightnessContrast, GaussNoise, RandomGamma, MixUp, ElasticTransform"
   ]
  },
  {
   "cell_type": "code",
   "execution_count": null,
   "metadata": {},
   "outputs": [],
   "source": [
    "input_shape = (630, 630, 1)"
   ]
  },
  {
   "cell_type": "markdown",
   "metadata": {},
   "source": [
    "## Preprocessing"
   ]
  },
  {
   "cell_type": "code",
   "execution_count": null,
   "metadata": {},
   "outputs": [],
   "source": [
    "def read_nifti_file(filepath):\n",
    "  \"\"\"Read and load volume\"\"\"\n",
    "  # Read file\n",
    "  scan = nib.load(filepath)\n",
    "  # Get raw data\n",
    "  scan = scan.get_fdata()\n",
    "  return scan\n",
    "\n",
    "\n",
    "def load_data(path):\n",
    "  images = sorted(glob(os.path.join(path, 'rp_im', '*')))\n",
    "  lung_masks = sorted(glob(os.path.join(path, 'rp_lung_msk', '*')))\n",
    "  masks = sorted(glob(os.path.join(path, 'rp_msk', '*')))\n",
    "\n",
    "  return (images, lung_masks, masks)\n",
    "\n",
    "\n",
    "def parse(images, lung_masks, masks):\n",
    "  images = read_nifti_file(images)\n",
    "  lung_masks = read_nifti_file(lung_masks)\n",
    "  masks = read_nifti_file(masks)\n",
    "  return images, lung_masks, masks\n",
    "\n",
    "def to_uint8(data):\n",
    "    data -= data.min()\n",
    "    data /= data.max()\n",
    "    data *= 255\n",
    "    return data.astype(np.uint8)"
   ]
  },
  {
   "cell_type": "code",
   "execution_count": null,
   "metadata": {},
   "outputs": [],
   "source": [
    "%rm -r 'dataset/test'\n",
    "%rm -r 'dataset/train'\n",
    "\n",
    "%mkdir 'dataset/test'\n",
    "%mkdir 'dataset/test/images'\n",
    "%mkdir 'dataset/test/masks'\n",
    "\n",
    "%mkdir 'dataset/train'\n",
    "%mkdir 'dataset/train/images'\n",
    "%mkdir 'dataset/train/masks'\n",
    "\n",
    "%mkdir 'dataset/validation'\n",
    "%mkdir 'dataset/validation/images'\n",
    "%mkdir 'dataset/validation/masks'"
   ]
  },
  {
   "cell_type": "code",
   "execution_count": null,
   "metadata": {},
   "outputs": [],
   "source": [
    "images, lung_masks, masks = load_data('dataset/MedSeg Covid Dataset 2')\n",
    "\n",
    "for image, lung_mask, mask in zip(images, lung_masks, masks):\n",
    "  image_slices, lung_mask_slices, mask_slices = parse(image, lung_mask, mask)\n",
    "  for i in range(image_slices.shape[2]):\n",
    "    image_slice = to_uint8(image_slices[:, :, i])\n",
    "    image_slice = np.rot90(image_slice, k=1, axes=(1, 0))\n",
    "\n",
    "    lung_mask_slice = np.uint8(lung_mask_slices[:, :, i])\n",
    "    lung_mask_slice = np.rot90(lung_mask_slice, k=1, axes=(1, 0))\n",
    "\n",
    "    mask_slice = np.uint8(mask_slices[:, :, i])\n",
    "    mask_slice = np.rot90(mask_slice, k=1, axes=(1, 0))\n",
    "\n",
    "    p = np.where(mask_slice != 0)\n",
    "    p1 = np.where(lung_mask_slice == 1)\n",
    "    p2 = np.where(mask_slice > 0)\n",
    "\n",
    "    mask_slice[p] = 0\n",
    "    mask_slice[p1] = 1\n",
    "    mask_slice[p2] = 2\n",
    "\n",
    "    if (2 in np.unique(mask_slice)):\n",
    "      cv2.imwrite(f'dataset/train/images/{os.path.splitext(os.path.basename(image))[0]}_{i}.png', image_slice)\n",
    "      cv2.imwrite(f'dataset/train/masks/{os.path.splitext(os.path.basename(image))[0]}_{i}.png', mask_slice)"
   ]
  },
  {
   "cell_type": "markdown",
   "metadata": {},
   "source": [
    "## Augment"
   ]
  },
  {
   "cell_type": "code",
   "execution_count": null,
   "metadata": {},
   "outputs": [],
   "source": [
    "images = sorted(glob(os.path.join('zip/dataset/train/images', '*')))\n",
    "masks = sorted(glob(os.path.join('zip/dataset/train/masks', '*')))\n",
    "\n",
    "for n in range(2):\n",
    "  for i in range(len(images)):\n",
    "    image = cv2.imread(images[i])\n",
    "    mask = cv2.imread(masks[i])\n",
    "\n",
    "    aug = HorizontalFlip(p=1)\n",
    "    augmented = aug(image=image, mask=mask)\n",
    "    x1 = augmented[\"image\"]\n",
    "    y1 = augmented[\"mask\"]\n",
    "\n",
    "    aug = RandomBrightnessContrast(p=1, brightness_limit=(-0.2, 0.2), contrast_limit=(0.0, 0.0))\n",
    "    augmented = aug(image=x1, mask=y1)\n",
    "    x2 = augmented[\"image\"]\n",
    "    y2 = augmented[\"mask\"]\n",
    "\n",
    "    aug = RandomBrightnessContrast(p=1, brightness_limit=(0.0, 0.0), contrast_limit=(-0.2, 0.2))\n",
    "    augmented = aug(image=x2, mask=y2)\n",
    "    x3 = augmented[\"image\"]\n",
    "    y3 = augmented[\"mask\"]\n",
    "\n",
    "    aug = ElasticTransform(p=1, alpha=120, sigma=120 * 0.05, alpha_affine=120 * 0.03)\n",
    "    augmented = aug(image=x3, mask=y3)\n",
    "    x4 = augmented[\"image\"]\n",
    "    y4 = augmented[\"mask\"]\n",
    "    cv2.imwrite(f'zip/dataset/train/images/aug_{n}_{os.path.splitext(os.path.basename(images[i]))[0]}_{i}.png', x4)\n",
    "    cv2.imwrite(f'zip/dataset/train/masks/aug_{n}_{os.path.splitext(os.path.basename(images[i]))[0]}_{i}.png', y4)"
   ]
  },
  {
   "cell_type": "code",
   "execution_count": null,
   "metadata": {},
   "outputs": [],
   "source": [
    "images = sorted(glob(os.path.join('dataset/validation/images', '*')))\n",
    "for image in images:\n",
    "  name = os.path.basename(image)\n",
    "  os.rename(os.path.join('dataset/train/masks', name), os.path.join('dataset/validation/masks', name))"
   ]
  }
 ],
 "metadata": {
  "kernelspec": {
   "display_name": "venv",
   "language": "python",
   "name": "python3"
  },
  "language_info": {
   "codemirror_mode": {
    "name": "ipython",
    "version": 3
   },
   "file_extension": ".py",
   "mimetype": "text/x-python",
   "name": "python",
   "nbconvert_exporter": "python",
   "pygments_lexer": "ipython3",
   "version": "3.11.7"
  }
 },
 "nbformat": 4,
 "nbformat_minor": 2
}
