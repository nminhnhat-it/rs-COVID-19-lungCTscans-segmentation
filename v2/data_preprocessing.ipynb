{
 "cells": [
  {
   "cell_type": "markdown",
   "metadata": {},
   "source": [
    "## Setting up"
   ]
  },
  {
   "cell_type": "code",
   "execution_count": 1,
   "metadata": {},
   "outputs": [
    {
     "name": "stdout",
     "output_type": "stream",
     "text": [
      "Requirement already satisfied: tensorflow==2.16.1 in ./venv/lib/python3.11/site-packages (2.16.1)\n",
      "Requirement already satisfied: nibabel in ./venv/lib/python3.11/site-packages (5.3.2)\n",
      "Requirement already satisfied: matplotlib in ./venv/lib/python3.11/site-packages (3.9.2)\n",
      "Requirement already satisfied: numpy in ./venv/lib/python3.11/site-packages (1.26.4)\n",
      "Requirement already satisfied: opencv-python in ./venv/lib/python3.11/site-packages (4.10.0.84)\n",
      "Requirement already satisfied: image-classifiers==1.0.0b1 in ./venv/lib/python3.11/site-packages (1.0.0b1)\n",
      "Requirement already satisfied: keras_applications in ./venv/lib/python3.11/site-packages (1.0.8)\n",
      "Requirement already satisfied: keras_preprocessing in ./venv/lib/python3.11/site-packages (1.1.2)\n",
      "Requirement already satisfied: keras_cv in ./venv/lib/python3.11/site-packages (0.9.0)\n",
      "Requirement already satisfied: absl-py>=1.0.0 in ./venv/lib/python3.11/site-packages (from tensorflow==2.16.1) (2.1.0)\n",
      "Requirement already satisfied: astunparse>=1.6.0 in ./venv/lib/python3.11/site-packages (from tensorflow==2.16.1) (1.6.3)\n",
      "Requirement already satisfied: flatbuffers>=23.5.26 in ./venv/lib/python3.11/site-packages (from tensorflow==2.16.1) (24.3.25)\n",
      "Requirement already satisfied: gast!=0.5.0,!=0.5.1,!=0.5.2,>=0.2.1 in ./venv/lib/python3.11/site-packages (from tensorflow==2.16.1) (0.6.0)\n",
      "Requirement already satisfied: google-pasta>=0.1.1 in ./venv/lib/python3.11/site-packages (from tensorflow==2.16.1) (0.2.0)\n",
      "Requirement already satisfied: h5py>=3.10.0 in ./venv/lib/python3.11/site-packages (from tensorflow==2.16.1) (3.12.1)\n",
      "Requirement already satisfied: libclang>=13.0.0 in ./venv/lib/python3.11/site-packages (from tensorflow==2.16.1) (18.1.1)\n",
      "Requirement already satisfied: ml-dtypes~=0.3.1 in ./venv/lib/python3.11/site-packages (from tensorflow==2.16.1) (0.3.2)\n",
      "Requirement already satisfied: opt-einsum>=2.3.2 in ./venv/lib/python3.11/site-packages (from tensorflow==2.16.1) (3.4.0)\n",
      "Requirement already satisfied: packaging in ./venv/lib/python3.11/site-packages (from tensorflow==2.16.1) (24.1)\n",
      "Requirement already satisfied: protobuf!=4.21.0,!=4.21.1,!=4.21.2,!=4.21.3,!=4.21.4,!=4.21.5,<5.0.0dev,>=3.20.3 in ./venv/lib/python3.11/site-packages (from tensorflow==2.16.1) (4.25.5)\n",
      "Requirement already satisfied: requests<3,>=2.21.0 in ./venv/lib/python3.11/site-packages (from tensorflow==2.16.1) (2.32.3)\n",
      "Requirement already satisfied: setuptools in ./venv/lib/python3.11/site-packages (from tensorflow==2.16.1) (65.5.0)\n",
      "Requirement already satisfied: six>=1.12.0 in ./venv/lib/python3.11/site-packages (from tensorflow==2.16.1) (1.16.0)\n",
      "Requirement already satisfied: termcolor>=1.1.0 in ./venv/lib/python3.11/site-packages (from tensorflow==2.16.1) (2.5.0)\n",
      "Requirement already satisfied: typing-extensions>=3.6.6 in ./venv/lib/python3.11/site-packages (from tensorflow==2.16.1) (4.12.2)\n",
      "Requirement already satisfied: wrapt>=1.11.0 in ./venv/lib/python3.11/site-packages (from tensorflow==2.16.1) (1.16.0)\n",
      "Requirement already satisfied: grpcio<2.0,>=1.24.3 in ./venv/lib/python3.11/site-packages (from tensorflow==2.16.1) (1.67.0)\n",
      "Requirement already satisfied: tensorboard<2.17,>=2.16 in ./venv/lib/python3.11/site-packages (from tensorflow==2.16.1) (2.16.2)\n",
      "Requirement already satisfied: keras>=3.0.0 in ./venv/lib/python3.11/site-packages (from tensorflow==2.16.1) (3.6.0)\n",
      "Requirement already satisfied: tensorflow-io-gcs-filesystem>=0.23.1 in ./venv/lib/python3.11/site-packages (from tensorflow==2.16.1) (0.37.1)\n",
      "Requirement already satisfied: importlib-resources>=5.12 in ./venv/lib/python3.11/site-packages (from nibabel) (6.4.5)\n",
      "Requirement already satisfied: contourpy>=1.0.1 in ./venv/lib/python3.11/site-packages (from matplotlib) (1.3.0)\n",
      "Requirement already satisfied: cycler>=0.10 in ./venv/lib/python3.11/site-packages (from matplotlib) (0.12.1)\n",
      "Requirement already satisfied: fonttools>=4.22.0 in ./venv/lib/python3.11/site-packages (from matplotlib) (4.54.1)\n",
      "Requirement already satisfied: kiwisolver>=1.3.1 in ./venv/lib/python3.11/site-packages (from matplotlib) (1.4.7)\n",
      "Requirement already satisfied: pillow>=8 in ./venv/lib/python3.11/site-packages (from matplotlib) (11.0.0)\n",
      "Requirement already satisfied: pyparsing>=2.3.1 in ./venv/lib/python3.11/site-packages (from matplotlib) (3.2.0)\n",
      "Requirement already satisfied: python-dateutil>=2.7 in ./venv/lib/python3.11/site-packages (from matplotlib) (2.9.0.post0)\n",
      "Requirement already satisfied: regex in ./venv/lib/python3.11/site-packages (from keras_cv) (2024.9.11)\n",
      "Requirement already satisfied: tensorflow-datasets in ./venv/lib/python3.11/site-packages (from keras_cv) (4.9.6)\n",
      "Requirement already satisfied: keras-core in ./venv/lib/python3.11/site-packages (from keras_cv) (0.1.7)\n",
      "Requirement already satisfied: kagglehub in ./venv/lib/python3.11/site-packages (from keras_cv) (0.3.3)\n",
      "Requirement already satisfied: wheel<1.0,>=0.23.0 in ./venv/lib/python3.11/site-packages (from astunparse>=1.6.0->tensorflow==2.16.1) (0.44.0)\n",
      "Requirement already satisfied: rich in ./venv/lib/python3.11/site-packages (from keras>=3.0.0->tensorflow==2.16.1) (13.9.3)\n",
      "Requirement already satisfied: namex in ./venv/lib/python3.11/site-packages (from keras>=3.0.0->tensorflow==2.16.1) (0.0.8)\n",
      "Requirement already satisfied: optree in ./venv/lib/python3.11/site-packages (from keras>=3.0.0->tensorflow==2.16.1) (0.13.0)\n",
      "Requirement already satisfied: charset-normalizer<4,>=2 in ./venv/lib/python3.11/site-packages (from requests<3,>=2.21.0->tensorflow==2.16.1) (3.4.0)\n",
      "Requirement already satisfied: idna<4,>=2.5 in ./venv/lib/python3.11/site-packages (from requests<3,>=2.21.0->tensorflow==2.16.1) (3.10)\n",
      "Requirement already satisfied: urllib3<3,>=1.21.1 in ./venv/lib/python3.11/site-packages (from requests<3,>=2.21.0->tensorflow==2.16.1) (2.2.3)\n",
      "Requirement already satisfied: certifi>=2017.4.17 in ./venv/lib/python3.11/site-packages (from requests<3,>=2.21.0->tensorflow==2.16.1) (2024.8.30)\n",
      "Requirement already satisfied: markdown>=2.6.8 in ./venv/lib/python3.11/site-packages (from tensorboard<2.17,>=2.16->tensorflow==2.16.1) (3.7)\n",
      "Requirement already satisfied: tensorboard-data-server<0.8.0,>=0.7.0 in ./venv/lib/python3.11/site-packages (from tensorboard<2.17,>=2.16->tensorflow==2.16.1) (0.7.2)\n",
      "Requirement already satisfied: werkzeug>=1.0.1 in ./venv/lib/python3.11/site-packages (from tensorboard<2.17,>=2.16->tensorflow==2.16.1) (3.0.4)\n",
      "Requirement already satisfied: tqdm in ./venv/lib/python3.11/site-packages (from kagglehub->keras_cv) (4.66.5)\n",
      "Requirement already satisfied: dm-tree in ./venv/lib/python3.11/site-packages (from keras-core->keras_cv) (0.1.8)\n",
      "Requirement already satisfied: click in ./venv/lib/python3.11/site-packages (from tensorflow-datasets->keras_cv) (8.1.7)\n",
      "Requirement already satisfied: immutabledict in ./venv/lib/python3.11/site-packages (from tensorflow-datasets->keras_cv) (4.2.0)\n",
      "Requirement already satisfied: promise in ./venv/lib/python3.11/site-packages (from tensorflow-datasets->keras_cv) (2.3)\n",
      "Requirement already satisfied: psutil in ./venv/lib/python3.11/site-packages (from tensorflow-datasets->keras_cv) (6.1.0)\n",
      "Requirement already satisfied: pyarrow in ./venv/lib/python3.11/site-packages (from tensorflow-datasets->keras_cv) (17.0.0)\n",
      "Requirement already satisfied: simple-parsing in ./venv/lib/python3.11/site-packages (from tensorflow-datasets->keras_cv) (0.1.6)\n",
      "Requirement already satisfied: tensorflow-metadata in ./venv/lib/python3.11/site-packages (from tensorflow-datasets->keras_cv) (1.16.1)\n",
      "Requirement already satisfied: toml in ./venv/lib/python3.11/site-packages (from tensorflow-datasets->keras_cv) (0.10.2)\n",
      "Requirement already satisfied: etils[enp,epath,epy,etree]>=1.9.1 in ./venv/lib/python3.11/site-packages (from tensorflow-datasets->keras_cv) (1.10.0)\n",
      "Requirement already satisfied: fsspec in ./venv/lib/python3.11/site-packages (from etils[enp,epath,epy,etree]>=1.9.1->tensorflow-datasets->keras_cv) (2024.10.0)\n",
      "Requirement already satisfied: zipp in ./venv/lib/python3.11/site-packages (from etils[enp,epath,epy,etree]>=1.9.1->tensorflow-datasets->keras_cv) (3.20.2)\n",
      "Requirement already satisfied: MarkupSafe>=2.1.1 in ./venv/lib/python3.11/site-packages (from werkzeug>=1.0.1->tensorboard<2.17,>=2.16->tensorflow==2.16.1) (3.0.2)\n",
      "Requirement already satisfied: markdown-it-py>=2.2.0 in ./venv/lib/python3.11/site-packages (from rich->keras>=3.0.0->tensorflow==2.16.1) (3.0.0)\n",
      "Requirement already satisfied: pygments<3.0.0,>=2.13.0 in ./venv/lib/python3.11/site-packages (from rich->keras>=3.0.0->tensorflow==2.16.1) (2.18.0)\n",
      "Requirement already satisfied: docstring-parser<1.0,>=0.15 in ./venv/lib/python3.11/site-packages (from simple-parsing->tensorflow-datasets->keras_cv) (0.16)\n",
      "Requirement already satisfied: googleapis-common-protos<2,>=1.56.4 in ./venv/lib/python3.11/site-packages (from tensorflow-metadata->tensorflow-datasets->keras_cv) (1.65.0)\n",
      "Requirement already satisfied: mdurl~=0.1 in ./venv/lib/python3.11/site-packages (from markdown-it-py>=2.2.0->rich->keras>=3.0.0->tensorflow==2.16.1) (0.1.2)\n",
      "\n",
      "\u001b[1m[\u001b[0m\u001b[34;49mnotice\u001b[0m\u001b[1;39;49m]\u001b[0m\u001b[39;49m A new release of pip is available: \u001b[0m\u001b[31;49m23.2.1\u001b[0m\u001b[39;49m -> \u001b[0m\u001b[32;49m24.3.1\u001b[0m\n",
      "\u001b[1m[\u001b[0m\u001b[34;49mnotice\u001b[0m\u001b[1;39;49m]\u001b[0m\u001b[39;49m To update, run: \u001b[0m\u001b[32;49mpip install --upgrade pip\u001b[0m\n",
      "Note: you may need to restart the kernel to use updated packages.\n"
     ]
    }
   ],
   "source": [
    "%pip install tensorflow==2.16.1 nibabel matplotlib numpy opencv-python image-classifiers==1.0.0b1 keras_applications keras_preprocessing keras_cv"
   ]
  },
  {
   "cell_type": "code",
   "execution_count": 2,
   "metadata": {},
   "outputs": [],
   "source": [
    "import os\n",
    "from glob import glob \n",
    "import nibabel as nib\n",
    "import matplotlib.pyplot as plt\n",
    "import numpy as np\n",
    "import random\n",
    "import cv2"
   ]
  },
  {
   "cell_type": "code",
   "execution_count": 3,
   "metadata": {},
   "outputs": [],
   "source": [
    "input_shape = (512, 512, 1)"
   ]
  },
  {
   "cell_type": "markdown",
   "metadata": {},
   "source": [
    "## Preprocessing"
   ]
  },
  {
   "cell_type": "code",
   "execution_count": 4,
   "metadata": {},
   "outputs": [],
   "source": [
    "def read_nifti_file(filepath):\n",
    "  \"\"\"Read and load volume\"\"\"\n",
    "  # Read file\n",
    "  scan = nib.load(filepath)\n",
    "  # Get raw data\n",
    "  scan = scan.get_fdata()\n",
    "  return scan\n",
    "\n",
    "\n",
    "def load_data(path):\n",
    "  images = sorted(glob(os.path.join(path, 'rp_im', '*')))\n",
    "  lung_masks = sorted(glob(os.path.join(path, 'rp_lung_msk', '*')))\n",
    "  masks = sorted(glob(os.path.join(path, 'rp_msk', '*')))\n",
    "\n",
    "  return (images, lung_masks, masks)\n",
    "\n",
    "\n",
    "def parse(images, lung_masks, masks):\n",
    "  images = read_nifti_file(images)\n",
    "  lung_masks = read_nifti_file(lung_masks)\n",
    "  masks = read_nifti_file(masks)\n",
    "  return images, lung_masks, masks\n",
    "\n",
    "def to_uint8(data):\n",
    "    data -= data.min()\n",
    "    data /= data.max()\n",
    "    data *= 255\n",
    "    return data.astype(np.uint8)"
   ]
  },
  {
   "cell_type": "code",
   "execution_count": 5,
   "metadata": {},
   "outputs": [],
   "source": [
    "%rm -r 'dataset/converted/'\n",
    "\n",
    "%mkdir 'dataset/converted/'\n",
    "%mkdir 'dataset/converted/images'\n",
    "%mkdir 'dataset/converted/masks'"
   ]
  },
  {
   "cell_type": "code",
   "execution_count": 6,
   "metadata": {},
   "outputs": [],
   "source": [
    "images, lung_masks, masks = load_data('dataset/MedSeg Covid Dataset 2')\n",
    "\n",
    "for image, lung_mask, mask in zip(images, lung_masks, masks):\n",
    "  image_slices, lung_mask_slices, mask_slices = parse(image, lung_mask, mask)\n",
    "  for i in range(image_slices.shape[2]):\n",
    "    image_slice = to_uint8(image_slices[:, :, i])\n",
    "    image_slice = np.rot90(image_slice, k=1, axes=(1, 0))\n",
    "\n",
    "    lung_mask_slice = np.uint8(lung_mask_slices[:, :, i])\n",
    "    lung_mask_slice = np.rot90(lung_mask_slice, k=1, axes=(1, 0))\n",
    "\n",
    "    mask_slice = np.uint8(mask_slices[:, :, i])\n",
    "    mask_slice = np.rot90(mask_slice, k=1, axes=(1, 0))\n",
    "\n",
    "    p = np.where(mask_slice != 0)\n",
    "    p1 = np.where(lung_mask_slice == 1)\n",
    "    p2 = np.where(mask_slice > 0)\n",
    "\n",
    "    mask_slice[p] = 0\n",
    "    mask_slice[p1] = 1\n",
    "    mask_slice[p2] = 2\n",
    "\n",
    "    if (0 in np.unique(mask_slice)):\n",
    "      cv2.imwrite(f'dataset/converted/images/{os.path.splitext(os.path.basename(image))[0]}_{i}.png', image_slice)\n",
    "      cv2.imwrite(f'dataset/converted/masks/{os.path.splitext(os.path.basename(image))[0]}_{i}.png', mask_slice)"
   ]
  },
  {
   "cell_type": "code",
   "execution_count": null,
   "metadata": {},
   "outputs": [],
   "source": [
    "%rm -r 'dataset/test'\n",
    "%rm -r 'dataset/train'\n",
    "%rm -r 'dataset/val'\n",
    "\n",
    "%mkdir 'dataset/test'\n",
    "%mkdir 'dataset/test/images'\n",
    "%mkdir 'dataset/test/masks'\n",
    "\n",
    "%mkdir 'dataset/train'\n",
    "%mkdir 'dataset/train/images'\n",
    "%mkdir 'dataset/train/masks'\n",
    "\n",
    "%mkdir 'dataset/val'\n",
    "%mkdir 'dataset/val/images'\n",
    "%mkdir 'dataset/val/masks'"
   ]
  }
 ],
 "metadata": {
  "kernelspec": {
   "display_name": "venv",
   "language": "python",
   "name": "python3"
  },
  "language_info": {
   "codemirror_mode": {
    "name": "ipython",
    "version": 3
   },
   "file_extension": ".py",
   "mimetype": "text/x-python",
   "name": "python",
   "nbconvert_exporter": "python",
   "pygments_lexer": "ipython3",
   "version": "3.11.7"
  }
 },
 "nbformat": 4,
 "nbformat_minor": 2
}
